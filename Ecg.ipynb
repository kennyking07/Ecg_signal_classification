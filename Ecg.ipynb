{
  "nbformat": 4,
  "nbformat_minor": 0,
  "metadata": {
    "colab": {
      "name": "Ecg.ipynb",
      "provenance": []
    },
    "kernelspec": {
      "name": "python3",
      "display_name": "Python 3"
    }
  },
  "cells": [
    {
      "cell_type": "markdown",
      "metadata": {
        "id": "09gpnDtprr9E",
        "colab_type": "text"
      },
      "source": [
        "#Importing required files"
      ]
    },
    {
      "cell_type": "code",
      "metadata": {
        "id": "WbjyOoZUXIFs",
        "colab_type": "code",
        "colab": {}
      },
      "source": [
        "import numpy as np\n",
        "import pandas as pd\n",
        "import seaborn as sns\n",
        "import matplotlib.pyplot as plt\n",
        "from sklearn.metrics import classification_report\n",
        "from sklearn.model_selection import train_test_split\n",
        "from sklearn.metrics import f1_score\n",
        "from sklearn.metrics import confusion_matrix\n",
        "from keras.utils.np_utils import to_categorical\n",
        "from sklearn.utils import class_weight"
      ],
      "execution_count": null,
      "outputs": []
    },
    {
      "cell_type": "code",
      "metadata": {
        "id": "ZKWNpqD_XO_g",
        "colab_type": "code",
        "colab": {}
      },
      "source": [
        "train_df=pd.read_csv('/kaggle/input/heartbeat/mitbih_train.csv',header=None)\n",
        "test_df=pd.read_csv('/kaggle/input/heartbeat/mitbih_test.csv',header=None)"
      ],
      "execution_count": null,
      "outputs": []
    },
    {
      "cell_type": "code",
      "metadata": {
        "id": "poK3NL_aXR16",
        "colab_type": "code",
        "colab": {}
      },
      "source": [
        "train_df[187]=train_df[187].astype(int)\n",
        "equilibre=train_df[187].value_counts()\n",
        "print(equilibre)"
      ],
      "execution_count": null,
      "outputs": []
    },
    {
      "cell_type": "markdown",
      "metadata": {
        "id": "IrdVU2UfrmKO",
        "colab_type": "text"
      },
      "source": [
        "#Data Visualization"
      ]
    },
    {
      "cell_type": "code",
      "metadata": {
        "id": "GHlGcBh-eien",
        "colab_type": "code",
        "colab": {}
      },
      "source": [
        "x=np.arange(0,187)*0.008\n",
        "plt.figure(figsize=(10,5))\n",
        "plt.plot(x,X[C0,:][0],label=\"Cat N\")\n",
        "plt.legend()\n",
        "plt.title('ECG for C0',fontsize=16)\n",
        "plt.ylabel('Amplitude',fontsize=10)\n",
        "plt.xlabel('Time',fontsize=10)\n",
        "plt.show()"
      ],
      "execution_count": null,
      "outputs": []
    },
    {
      "cell_type": "code",
      "metadata": {
        "id": "t9Hz7LeTnuPx",
        "colab_type": "code",
        "colab": {}
      },
      "source": [
        "x=np.arange(0,187)*0.008\n",
        "plt.figure(figsize=(10,5))\n",
        "plt.plot(x,X[C1,:][0],label=\"Cat S\")\n",
        "plt.legend()\n",
        "plt.title('ECG for C1',fontsize=16)\n",
        "plt.ylabel('Amplitude',fontsize=10)\n",
        "plt.xlabel('Time',fontsize=10)\n",
        "plt.show()"
      ],
      "execution_count": null,
      "outputs": []
    },
    {
      "cell_type": "code",
      "metadata": {
        "id": "g6OvXMy4nxNp",
        "colab_type": "code",
        "colab": {}
      },
      "source": [
        "x=np.arange(0,187)*0.008\n",
        "plt.figure(figsize=(10,5))\n",
        "plt.plot(x,X[C2,:][0],label=\"Cat V\")\n",
        "plt.legend()\n",
        "plt.title('ECG for C2',fontsize=16)\n",
        "plt.ylabel('Amplitude',fontsize=10)\n",
        "plt.xlabel('Time',fontsize=10)\n",
        "plt.show()"
      ],
      "execution_count": null,
      "outputs": []
    },
    {
      "cell_type": "code",
      "metadata": {
        "id": "aAanZmursaSO",
        "colab_type": "code",
        "colab": {}
      },
      "source": [
        "x=np.arange(0,187)*0.008\n",
        "plt.figure(figsize=(10,5))\n",
        "plt.plot(x,X[C3,:][0],label=\"Cat F\")\n",
        "plt.legend()\n",
        "plt.title('ECG for C3',fontsize=16)\n",
        "plt.ylabel('Amplitude',fontsize=10)\n",
        "plt.xlabel('Time',fontsize=10)\n",
        "plt.show()"
      ],
      "execution_count": null,
      "outputs": []
    },
    {
      "cell_type": "code",
      "metadata": {
        "id": "Pw_YPNPanyU8",
        "colab_type": "code",
        "colab": {}
      },
      "source": [
        "x=np.arange(0,187)*0.008\n",
        "plt.figure(figsize=(10,5))\n",
        "plt.plot(x,X[C4,:][0],label=\"Cat Q\")\n",
        "plt.legend()\n",
        "plt.title('ECG for C4',fontsize=16)\n",
        "plt.ylabel('Amplitude',fontsize=10)\n",
        "plt.xlabel('Time',fontsize=10)\n",
        "plt.show()"
      ],
      "execution_count": null,
      "outputs": []
    },
    {
      "cell_type": "code",
      "metadata": {
        "id": "dzCR1iO9nzJs",
        "colab_type": "code",
        "colab": {}
      },
      "source": [
        "plt.figure(figsize=(10,5))\n",
        "plt.plot(x,X[C0,:][0],label=\"Cat N\")\n",
        "plt.plot(x,X[C1,:][0],label=\"Cat S\")\n",
        "plt.plot(x,X[C2,:][0],label=\"Cat V\")\n",
        "plt.plot(x,X[C3,:][0],label=\"Cat F\")\n",
        "plt.plot(x,X[C4,:][0],label=\"Cat Q\")\n",
        "plt.legend()\n",
        "plt.title('1 beat for each category',fontsize=16)\n",
        "plt.ylabel('Amplitude',fontsize=10)\n",
        "plt.xlabel('Time',fontsize=10)\n",
        "plt.show()"
      ],
      "execution_count": null,
      "outputs": []
    },
    {
      "cell_type": "markdown",
      "metadata": {
        "id": "qTtsUugeryPu",
        "colab_type": "text"
      },
      "source": [
        "#Model creation"
      ]
    },
    {
      "cell_type": "code",
      "metadata": {
        "id": "NVJD8XZcXX7s",
        "colab_type": "code",
        "colab": {}
      },
      "source": [
        "target_train=train_df[187]\n",
        "target_test=test_df[187]\n",
        "y_train=to_categorical(target_train)\n",
        "y_test=to_categorical(target_test)\n"
      ],
      "execution_count": null,
      "outputs": []
    },
    {
      "cell_type": "code",
      "metadata": {
        "id": "wmESlcQTYFGw",
        "colab_type": "code",
        "colab": {}
      },
      "source": [
        "_train=train_df.iloc[:,:186].values\n",
        "X_test=test_df.iloc[:,:186].values\n",
        "#for i in range(len(X_train)):\n",
        "#    X_train[i,:186]= add_gaussian_noise(X_train[i,:186])\n",
        "X_train = X_train.reshape(len(X_train), X_train.shape[1],1)\n",
        "X_test = X_test.reshape(len(X_test), X_test.shape[1],1)"
      ],
      "execution_count": null,
      "outputs": []
    },
    {
      "cell_type": "markdown",
      "metadata": {
        "id": "eHQz375Er-ou",
        "colab_type": "text"
      },
      "source": [
        "#3 layer CNN Model"
      ]
    },
    {
      "cell_type": "code",
      "metadata": {
        "id": "rV5yh4rZYLJs",
        "colab_type": "code",
        "colab": {}
      },
      "source": [
        "def network(X_train,y_train,X_test,y_test):\n",
        "    \n",
        "\n",
        "    im_shape=(X_train.shape[1],1)\n",
        "    inputs_cnn=Input(shape=(im_shape), name='inputs_cnn')\n",
        "    conv1_1=Convolution1D(64, (6), activation='relu', input_shape=im_shape)(inputs_cnn)\n",
        "    conv1_1=BatchNormalization()(conv1_1)\n",
        "    pool1=MaxPool1D(pool_size=(3), strides=(2), padding=\"same\")(conv1_1)\n",
        "    conv2_1=Convolution1D(64, (3), activation='relu', input_shape=im_shape)(pool1)\n",
        "    conv2_1=BatchNormalization()(conv2_1)\n",
        "    pool2=MaxPool1D(pool_size=(2), strides=(2), padding=\"same\")(conv2_1)\n",
        "    conv3_1=Convolution1D(64, (3), activation='relu', input_shape=im_shape)(pool2)\n",
        "    conv3_1=BatchNormalization()(conv3_1)\n",
        "    pool3=MaxPool1D(pool_size=(2), strides=(2), padding=\"same\")(conv3_1)\n",
        "    flatten=Flatten()(pool3)\n",
        "    dense_end1 = Dense(64, activation='relu')(flatten)\n",
        "    dense_end2 = Dense(32, activation='relu')(dense_end1)\n",
        "    main_output = Dense(5, activation='softmax', name='main_output')(dense_end2)\n",
        "    \n",
        "    \n",
        "    model = Model(inputs= inputs_cnn, outputs=main_output)\n",
        "    model.compile(optimizer='adam', loss='categorical_crossentropy',metrics = ['accuracy'])\n",
        "    \n",
        "    \n",
        "    callbacks = [EarlyStopping(monitor='val_loss', patience=8),\n",
        "             ModelCheckpoint(filepath='best_model.h5', monitor='val_loss', save_best_only=True)]\n",
        "\n",
        "    history=model.fit(X_train, y_train,epochs=10,callbacks=callbacks, batch_size=32,validation_data=(X_test,y_test))\n",
        "    model.load_weights('best_model.h5')\n",
        "    return(model,history)"
      ],
      "execution_count": null,
      "outputs": []
    },
    {
      "cell_type": "code",
      "metadata": {
        "id": "40xsydYKYNyI",
        "colab_type": "code",
        "colab": {}
      },
      "source": [
        "def evaluate_model(history,X_test,y_test,model):\n",
        "    scores = model.evaluate((X_test),y_test, verbose=0)\n",
        "    print(\"Accuracy: %.2f%%\" % (scores[1]*100))\n",
        "    \n",
        "    print(history)\n",
        "    fig1, ax_acc = plt.subplots()\n",
        "    plt.plot(history.history['accuracy'])\n",
        "    plt.plot(history.history['val_accuracy'])\n",
        "    plt.xlabel('Epoch')\n",
        "    plt.ylabel('Accuracy')\n",
        "    plt.title('Model - Accuracy')\n",
        "    plt.legend(['Training', 'Validation'], loc='lower right')\n",
        "    plt.show()\n",
        "    \n",
        "    fig2, ax_loss = plt.subplots()\n",
        "    plt.xlabel('Epoch')\n",
        "    plt.ylabel('Loss')\n",
        "    plt.title('Model- Loss')\n",
        "    plt.legend(['Training', 'Validation'], loc='upper right')\n",
        "    plt.plot(history.history['loss'])\n",
        "    plt.plot(history.history['val_loss'])\n",
        "    plt.show()\n",
        "    target_names=['0','1','2','3','4']\n",
        "    \n",
        "    y_true=[]\n",
        "    for element in y_test:\n",
        "        y_true.append(np.argmax(element))\n",
        "    prediction_proba=model.predict(X_test)\n",
        "    prediction=np.argmax(prediction_proba,axis=1)\n",
        "    cnf_matrix = confusion_matrix(y_true, prediction)"
      ],
      "execution_count": null,
      "outputs": []
    },
    {
      "cell_type": "markdown",
      "metadata": {
        "id": "8EtB-qJdr1oG",
        "colab_type": "text"
      },
      "source": [
        "#Model evaluation"
      ]
    },
    {
      "cell_type": "code",
      "metadata": {
        "id": "vvfE_I6zYUMo",
        "colab_type": "code",
        "colab": {}
      },
      "source": [
        "from keras.layers import Dense, Convolution1D, MaxPool1D, Flatten, Dropout\n",
        "from keras.layers import Input\n",
        "from keras.models import Model\n",
        "from keras.layers.normalization import BatchNormalization\n",
        "import keras\n",
        "from keras.callbacks import EarlyStopping, ModelCheckpoint\n",
        "\n",
        "model,history=network(X_train,y_train,X_test,y_test)"
      ],
      "execution_count": null,
      "outputs": []
    },
    {
      "cell_type": "code",
      "metadata": {
        "id": "Iplq32ygYZuW",
        "colab_type": "code",
        "colab": {}
      },
      "source": [
        "evaluate_model(history,X_test,y_test,model)\n",
        "y_pred=model.predict(X_test)"
      ],
      "execution_count": null,
      "outputs": []
    },
    {
      "cell_type": "code",
      "metadata": {
        "id": "Ivnar3u4YfNu",
        "colab_type": "code",
        "colab": {}
      },
      "source": [
        "import itertools\n",
        "def plot_confusion_matrix(cm, classes,\n",
        "                          normalize=False,\n",
        "                          title='Confusion matrix',\n",
        "                          cmap=plt.cm.Reds):\n",
        "    \"\"\"\n",
        "    This function prints and plots the confusion matrix.\n",
        "    Normalization can be applied by setting `normalize=True`.\n",
        "    \"\"\"\n",
        "    if normalize:\n",
        "        cm = cm.astype('float') / cm.sum(axis=1)[:, np.newaxis]\n",
        "        print(\"Normalized confusion matrix\")\n",
        "    else:\n",
        "        print('Confusion matrix, without normalization')\n",
        "\n",
        "    plt.imshow(cm, interpolation='nearest', cmap=cmap)\n",
        "    plt.title(title)\n",
        "    plt.colorbar()\n",
        "    tick_marks = np.arange(len(classes))\n",
        "    plt.xticks(tick_marks, classes, rotation=45)\n",
        "    plt.yticks(tick_marks, classes)\n",
        "\n",
        "    fmt = '.2f' if normalize else 'd'\n",
        "    thresh = cm.max() / 2.\n",
        "    for i, j in itertools.product(range(cm.shape[0]), range(cm.shape[1])):\n",
        "        plt.text(j, i, format(cm[i, j], fmt),\n",
        "                 horizontalalignment=\"center\",\n",
        "                 color=\"white\" if cm[i, j] > thresh else \"black\")\n",
        "\n",
        "    plt.tight_layout()\n",
        "    plt.ylabel('True label')\n",
        "    plt.xlabel('Predicted label')\n",
        "\n",
        "# Compute confusion matrix\n",
        "cnf_matrix = confusion_matrix(y_test.argmax(axis=1), y_pred.argmax(axis=1))\n",
        "np.set_printoptions(precision=2)\n",
        "\n",
        "# Plot non-normalized confusion matrix\n",
        "plt.figure(figsize=(10, 10))\n",
        "plot_confusion_matrix(cnf_matrix, classes=['N', 'S', 'V', 'F', 'Q'],normalize=True,\n",
        "                      title='Confusion matrix, with normalization')\n",
        "plt.show()"
      ],
      "execution_count": null,
      "outputs": []
    },
    {
      "cell_type": "markdown",
      "metadata": {
        "id": "Q8vf1GRSsER8",
        "colab_type": "text"
      },
      "source": [
        "#XGBoost Model"
      ]
    },
    {
      "cell_type": "code",
      "metadata": {
        "id": "nSv1ZeC8o7p_",
        "colab_type": "code",
        "colab": {}
      },
      "source": [
        "import xgboost as xgb\n",
        "from sklearn.metrics import accuracy_score\n",
        "X_train,X_test,y_train,y_test=train_test_split(x,Y,test_size=0.33)\n",
        "print(len(x),len(Y),len(X_train),len(X_test),len(y_train),len(y_test),X_train.shape,y_train.shape)\n",
        "params={'max_depth':7,'learning_rate':0.1,'n_estimators':500,'objective':'multi:softprob','num_class':5}\n",
        "d_train=xgb.DMatrix(X_train,label=y_train))\n",
        "d_test=xgb.DMatrix(X_test)\n",
        "clf=xgb.train(params,d_train,num_boost_round=100)\n",
        "test_y_predict=clf.predict(d_test)\n",
        "test_y=np.asarray([np.argmax(row) for row in test_y_predict])\n",
        "print('Accuracy':accuracy_score(y-test,test_y)*100)"
      ],
      "execution_count": null,
      "outputs": []
    }
  ]
}